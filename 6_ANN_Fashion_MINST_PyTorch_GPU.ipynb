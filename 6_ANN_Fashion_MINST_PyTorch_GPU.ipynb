{
  "nbformat": 4,
  "nbformat_minor": 0,
  "metadata": {
    "colab": {
      "provenance": [],
      "gpuType": "T4",
      "authorship_tag": "ABX9TyOmKrSps9qhnIRYaqfAfxvl",
      "include_colab_link": true
    },
    "kernelspec": {
      "name": "python3",
      "display_name": "Python 3"
    },
    "language_info": {
      "name": "python"
    },
    "accelerator": "GPU"
  },
  "cells": [
    {
      "cell_type": "markdown",
      "metadata": {
        "id": "view-in-github",
        "colab_type": "text"
      },
      "source": [
        "<a href=\"https://colab.research.google.com/github/vasukondreddy/PyTorch/blob/main/6_ANN_Fashion_MINST_PyTorch_GPU.ipynb\" target=\"_parent\"><img src=\"https://colab.research.google.com/assets/colab-badge.svg\" alt=\"Open In Colab\"/></a>"
      ]
    },
    {
      "cell_type": "code",
      "execution_count": 2,
      "metadata": {
        "id": "2QxlYOjhdHeJ"
      },
      "outputs": [],
      "source": [
        "import pandas as pd\n",
        "from sklearn.model_selection import train_test_split\n",
        "import torch\n",
        "from torch.utils.data import Dataset,DataLoader\n",
        "import torch.nn as nn\n",
        "import torch.optim as optim\n",
        "import matplotlib.pyplot as plt\n",
        "\n"
      ]
    },
    {
      "cell_type": "code",
      "source": [
        "# set random for reproducibility\n",
        "torch.manual_seed(42)"
      ],
      "metadata": {
        "colab": {
          "base_uri": "https://localhost:8080/"
        },
        "id": "njykHVAqeUk1",
        "outputId": "e99b6602-9087-4069-b2d5-b64cd914765a"
      },
      "execution_count": 3,
      "outputs": [
        {
          "output_type": "execute_result",
          "data": {
            "text/plain": [
              "<torch._C.Generator at 0x7843d8f3b450>"
            ]
          },
          "metadata": {},
          "execution_count": 3
        }
      ]
    },
    {
      "cell_type": "code",
      "source": [
        "# check for GPU\n",
        "device =torch.device('cuda' if torch.cuda.is_available() else 'cpu')\n",
        "print(f\"Using device: {device}\")"
      ],
      "metadata": {
        "colab": {
          "base_uri": "https://localhost:8080/"
        },
        "id": "4taoeKRWudKM",
        "outputId": "211e07e1-ac57-4454-d3ae-b90211cc8f2b"
      },
      "execution_count": 4,
      "outputs": [
        {
          "output_type": "stream",
          "name": "stdout",
          "text": [
            "Using device: cuda\n"
          ]
        }
      ]
    },
    {
      "cell_type": "code",
      "source": [
        "df=pd.read_csv('fashion-mnist_train.csv')\n",
        "df.head()"
      ],
      "metadata": {
        "colab": {
          "base_uri": "https://localhost:8080/",
          "height": 255
        },
        "id": "sD5U-E0Yebk1",
        "outputId": "9c66b935-c67f-4c22-8699-f5859b6439d8"
      },
      "execution_count": 6,
      "outputs": [
        {
          "output_type": "execute_result",
          "data": {
            "text/plain": [
              "   label  pixel1  pixel2  pixel3  pixel4  pixel5  pixel6  pixel7  pixel8  \\\n",
              "0      2       0       0       0       0       0       0       0       0   \n",
              "1      9       0       0       0       0       0       0       0       0   \n",
              "2      6       0       0       0       0       0       0       0       5   \n",
              "3      0       0       0       0       1       2       0       0       0   \n",
              "4      3       0       0       0       0       0       0       0       0   \n",
              "\n",
              "   pixel9  ...  pixel775  pixel776  pixel777  pixel778  pixel779  pixel780  \\\n",
              "0       0  ...       0.0       0.0       0.0       0.0       0.0       0.0   \n",
              "1       0  ...       0.0       0.0       0.0       0.0       0.0       0.0   \n",
              "2       0  ...       0.0       0.0       0.0      30.0      43.0       0.0   \n",
              "3       0  ...       3.0       0.0       0.0       0.0       0.0       1.0   \n",
              "4       0  ...       0.0       0.0       0.0       0.0       0.0       0.0   \n",
              "\n",
              "   pixel781  pixel782  pixel783  pixel784  \n",
              "0       0.0       0.0       0.0       0.0  \n",
              "1       0.0       0.0       0.0       0.0  \n",
              "2       0.0       0.0       0.0       0.0  \n",
              "3       0.0       0.0       0.0       0.0  \n",
              "4       0.0       0.0       0.0       0.0  \n",
              "\n",
              "[5 rows x 785 columns]"
            ],
            "text/html": [
              "\n",
              "  <div id=\"df-b48e9cfe-e170-4a4f-9b13-f6e50edaa013\" class=\"colab-df-container\">\n",
              "    <div>\n",
              "<style scoped>\n",
              "    .dataframe tbody tr th:only-of-type {\n",
              "        vertical-align: middle;\n",
              "    }\n",
              "\n",
              "    .dataframe tbody tr th {\n",
              "        vertical-align: top;\n",
              "    }\n",
              "\n",
              "    .dataframe thead th {\n",
              "        text-align: right;\n",
              "    }\n",
              "</style>\n",
              "<table border=\"1\" class=\"dataframe\">\n",
              "  <thead>\n",
              "    <tr style=\"text-align: right;\">\n",
              "      <th></th>\n",
              "      <th>label</th>\n",
              "      <th>pixel1</th>\n",
              "      <th>pixel2</th>\n",
              "      <th>pixel3</th>\n",
              "      <th>pixel4</th>\n",
              "      <th>pixel5</th>\n",
              "      <th>pixel6</th>\n",
              "      <th>pixel7</th>\n",
              "      <th>pixel8</th>\n",
              "      <th>pixel9</th>\n",
              "      <th>...</th>\n",
              "      <th>pixel775</th>\n",
              "      <th>pixel776</th>\n",
              "      <th>pixel777</th>\n",
              "      <th>pixel778</th>\n",
              "      <th>pixel779</th>\n",
              "      <th>pixel780</th>\n",
              "      <th>pixel781</th>\n",
              "      <th>pixel782</th>\n",
              "      <th>pixel783</th>\n",
              "      <th>pixel784</th>\n",
              "    </tr>\n",
              "  </thead>\n",
              "  <tbody>\n",
              "    <tr>\n",
              "      <th>0</th>\n",
              "      <td>2</td>\n",
              "      <td>0</td>\n",
              "      <td>0</td>\n",
              "      <td>0</td>\n",
              "      <td>0</td>\n",
              "      <td>0</td>\n",
              "      <td>0</td>\n",
              "      <td>0</td>\n",
              "      <td>0</td>\n",
              "      <td>0</td>\n",
              "      <td>...</td>\n",
              "      <td>0.0</td>\n",
              "      <td>0.0</td>\n",
              "      <td>0.0</td>\n",
              "      <td>0.0</td>\n",
              "      <td>0.0</td>\n",
              "      <td>0.0</td>\n",
              "      <td>0.0</td>\n",
              "      <td>0.0</td>\n",
              "      <td>0.0</td>\n",
              "      <td>0.0</td>\n",
              "    </tr>\n",
              "    <tr>\n",
              "      <th>1</th>\n",
              "      <td>9</td>\n",
              "      <td>0</td>\n",
              "      <td>0</td>\n",
              "      <td>0</td>\n",
              "      <td>0</td>\n",
              "      <td>0</td>\n",
              "      <td>0</td>\n",
              "      <td>0</td>\n",
              "      <td>0</td>\n",
              "      <td>0</td>\n",
              "      <td>...</td>\n",
              "      <td>0.0</td>\n",
              "      <td>0.0</td>\n",
              "      <td>0.0</td>\n",
              "      <td>0.0</td>\n",
              "      <td>0.0</td>\n",
              "      <td>0.0</td>\n",
              "      <td>0.0</td>\n",
              "      <td>0.0</td>\n",
              "      <td>0.0</td>\n",
              "      <td>0.0</td>\n",
              "    </tr>\n",
              "    <tr>\n",
              "      <th>2</th>\n",
              "      <td>6</td>\n",
              "      <td>0</td>\n",
              "      <td>0</td>\n",
              "      <td>0</td>\n",
              "      <td>0</td>\n",
              "      <td>0</td>\n",
              "      <td>0</td>\n",
              "      <td>0</td>\n",
              "      <td>5</td>\n",
              "      <td>0</td>\n",
              "      <td>...</td>\n",
              "      <td>0.0</td>\n",
              "      <td>0.0</td>\n",
              "      <td>0.0</td>\n",
              "      <td>30.0</td>\n",
              "      <td>43.0</td>\n",
              "      <td>0.0</td>\n",
              "      <td>0.0</td>\n",
              "      <td>0.0</td>\n",
              "      <td>0.0</td>\n",
              "      <td>0.0</td>\n",
              "    </tr>\n",
              "    <tr>\n",
              "      <th>3</th>\n",
              "      <td>0</td>\n",
              "      <td>0</td>\n",
              "      <td>0</td>\n",
              "      <td>0</td>\n",
              "      <td>1</td>\n",
              "      <td>2</td>\n",
              "      <td>0</td>\n",
              "      <td>0</td>\n",
              "      <td>0</td>\n",
              "      <td>0</td>\n",
              "      <td>...</td>\n",
              "      <td>3.0</td>\n",
              "      <td>0.0</td>\n",
              "      <td>0.0</td>\n",
              "      <td>0.0</td>\n",
              "      <td>0.0</td>\n",
              "      <td>1.0</td>\n",
              "      <td>0.0</td>\n",
              "      <td>0.0</td>\n",
              "      <td>0.0</td>\n",
              "      <td>0.0</td>\n",
              "    </tr>\n",
              "    <tr>\n",
              "      <th>4</th>\n",
              "      <td>3</td>\n",
              "      <td>0</td>\n",
              "      <td>0</td>\n",
              "      <td>0</td>\n",
              "      <td>0</td>\n",
              "      <td>0</td>\n",
              "      <td>0</td>\n",
              "      <td>0</td>\n",
              "      <td>0</td>\n",
              "      <td>0</td>\n",
              "      <td>...</td>\n",
              "      <td>0.0</td>\n",
              "      <td>0.0</td>\n",
              "      <td>0.0</td>\n",
              "      <td>0.0</td>\n",
              "      <td>0.0</td>\n",
              "      <td>0.0</td>\n",
              "      <td>0.0</td>\n",
              "      <td>0.0</td>\n",
              "      <td>0.0</td>\n",
              "      <td>0.0</td>\n",
              "    </tr>\n",
              "  </tbody>\n",
              "</table>\n",
              "<p>5 rows × 785 columns</p>\n",
              "</div>\n",
              "    <div class=\"colab-df-buttons\">\n",
              "\n",
              "  <div class=\"colab-df-container\">\n",
              "    <button class=\"colab-df-convert\" onclick=\"convertToInteractive('df-b48e9cfe-e170-4a4f-9b13-f6e50edaa013')\"\n",
              "            title=\"Convert this dataframe to an interactive table.\"\n",
              "            style=\"display:none;\">\n",
              "\n",
              "  <svg xmlns=\"http://www.w3.org/2000/svg\" height=\"24px\" viewBox=\"0 -960 960 960\">\n",
              "    <path d=\"M120-120v-720h720v720H120Zm60-500h600v-160H180v160Zm220 220h160v-160H400v160Zm0 220h160v-160H400v160ZM180-400h160v-160H180v160Zm440 0h160v-160H620v160ZM180-180h160v-160H180v160Zm440 0h160v-160H620v160Z\"/>\n",
              "  </svg>\n",
              "    </button>\n",
              "\n",
              "  <style>\n",
              "    .colab-df-container {\n",
              "      display:flex;\n",
              "      gap: 12px;\n",
              "    }\n",
              "\n",
              "    .colab-df-convert {\n",
              "      background-color: #E8F0FE;\n",
              "      border: none;\n",
              "      border-radius: 50%;\n",
              "      cursor: pointer;\n",
              "      display: none;\n",
              "      fill: #1967D2;\n",
              "      height: 32px;\n",
              "      padding: 0 0 0 0;\n",
              "      width: 32px;\n",
              "    }\n",
              "\n",
              "    .colab-df-convert:hover {\n",
              "      background-color: #E2EBFA;\n",
              "      box-shadow: 0px 1px 2px rgba(60, 64, 67, 0.3), 0px 1px 3px 1px rgba(60, 64, 67, 0.15);\n",
              "      fill: #174EA6;\n",
              "    }\n",
              "\n",
              "    .colab-df-buttons div {\n",
              "      margin-bottom: 4px;\n",
              "    }\n",
              "\n",
              "    [theme=dark] .colab-df-convert {\n",
              "      background-color: #3B4455;\n",
              "      fill: #D2E3FC;\n",
              "    }\n",
              "\n",
              "    [theme=dark] .colab-df-convert:hover {\n",
              "      background-color: #434B5C;\n",
              "      box-shadow: 0px 1px 3px 1px rgba(0, 0, 0, 0.15);\n",
              "      filter: drop-shadow(0px 1px 2px rgba(0, 0, 0, 0.3));\n",
              "      fill: #FFFFFF;\n",
              "    }\n",
              "  </style>\n",
              "\n",
              "    <script>\n",
              "      const buttonEl =\n",
              "        document.querySelector('#df-b48e9cfe-e170-4a4f-9b13-f6e50edaa013 button.colab-df-convert');\n",
              "      buttonEl.style.display =\n",
              "        google.colab.kernel.accessAllowed ? 'block' : 'none';\n",
              "\n",
              "      async function convertToInteractive(key) {\n",
              "        const element = document.querySelector('#df-b48e9cfe-e170-4a4f-9b13-f6e50edaa013');\n",
              "        const dataTable =\n",
              "          await google.colab.kernel.invokeFunction('convertToInteractive',\n",
              "                                                    [key], {});\n",
              "        if (!dataTable) return;\n",
              "\n",
              "        const docLinkHtml = 'Like what you see? Visit the ' +\n",
              "          '<a target=\"_blank\" href=https://colab.research.google.com/notebooks/data_table.ipynb>data table notebook</a>'\n",
              "          + ' to learn more about interactive tables.';\n",
              "        element.innerHTML = '';\n",
              "        dataTable['output_type'] = 'display_data';\n",
              "        await google.colab.output.renderOutput(dataTable, element);\n",
              "        const docLink = document.createElement('div');\n",
              "        docLink.innerHTML = docLinkHtml;\n",
              "        element.appendChild(docLink);\n",
              "      }\n",
              "    </script>\n",
              "  </div>\n",
              "\n",
              "\n",
              "    <div id=\"df-68eb43b8-3cce-41f2-80a0-81e25b4bb4bf\">\n",
              "      <button class=\"colab-df-quickchart\" onclick=\"quickchart('df-68eb43b8-3cce-41f2-80a0-81e25b4bb4bf')\"\n",
              "                title=\"Suggest charts\"\n",
              "                style=\"display:none;\">\n",
              "\n",
              "<svg xmlns=\"http://www.w3.org/2000/svg\" height=\"24px\"viewBox=\"0 0 24 24\"\n",
              "     width=\"24px\">\n",
              "    <g>\n",
              "        <path d=\"M19 3H5c-1.1 0-2 .9-2 2v14c0 1.1.9 2 2 2h14c1.1 0 2-.9 2-2V5c0-1.1-.9-2-2-2zM9 17H7v-7h2v7zm4 0h-2V7h2v10zm4 0h-2v-4h2v4z\"/>\n",
              "    </g>\n",
              "</svg>\n",
              "      </button>\n",
              "\n",
              "<style>\n",
              "  .colab-df-quickchart {\n",
              "      --bg-color: #E8F0FE;\n",
              "      --fill-color: #1967D2;\n",
              "      --hover-bg-color: #E2EBFA;\n",
              "      --hover-fill-color: #174EA6;\n",
              "      --disabled-fill-color: #AAA;\n",
              "      --disabled-bg-color: #DDD;\n",
              "  }\n",
              "\n",
              "  [theme=dark] .colab-df-quickchart {\n",
              "      --bg-color: #3B4455;\n",
              "      --fill-color: #D2E3FC;\n",
              "      --hover-bg-color: #434B5C;\n",
              "      --hover-fill-color: #FFFFFF;\n",
              "      --disabled-bg-color: #3B4455;\n",
              "      --disabled-fill-color: #666;\n",
              "  }\n",
              "\n",
              "  .colab-df-quickchart {\n",
              "    background-color: var(--bg-color);\n",
              "    border: none;\n",
              "    border-radius: 50%;\n",
              "    cursor: pointer;\n",
              "    display: none;\n",
              "    fill: var(--fill-color);\n",
              "    height: 32px;\n",
              "    padding: 0;\n",
              "    width: 32px;\n",
              "  }\n",
              "\n",
              "  .colab-df-quickchart:hover {\n",
              "    background-color: var(--hover-bg-color);\n",
              "    box-shadow: 0 1px 2px rgba(60, 64, 67, 0.3), 0 1px 3px 1px rgba(60, 64, 67, 0.15);\n",
              "    fill: var(--button-hover-fill-color);\n",
              "  }\n",
              "\n",
              "  .colab-df-quickchart-complete:disabled,\n",
              "  .colab-df-quickchart-complete:disabled:hover {\n",
              "    background-color: var(--disabled-bg-color);\n",
              "    fill: var(--disabled-fill-color);\n",
              "    box-shadow: none;\n",
              "  }\n",
              "\n",
              "  .colab-df-spinner {\n",
              "    border: 2px solid var(--fill-color);\n",
              "    border-color: transparent;\n",
              "    border-bottom-color: var(--fill-color);\n",
              "    animation:\n",
              "      spin 1s steps(1) infinite;\n",
              "  }\n",
              "\n",
              "  @keyframes spin {\n",
              "    0% {\n",
              "      border-color: transparent;\n",
              "      border-bottom-color: var(--fill-color);\n",
              "      border-left-color: var(--fill-color);\n",
              "    }\n",
              "    20% {\n",
              "      border-color: transparent;\n",
              "      border-left-color: var(--fill-color);\n",
              "      border-top-color: var(--fill-color);\n",
              "    }\n",
              "    30% {\n",
              "      border-color: transparent;\n",
              "      border-left-color: var(--fill-color);\n",
              "      border-top-color: var(--fill-color);\n",
              "      border-right-color: var(--fill-color);\n",
              "    }\n",
              "    40% {\n",
              "      border-color: transparent;\n",
              "      border-right-color: var(--fill-color);\n",
              "      border-top-color: var(--fill-color);\n",
              "    }\n",
              "    60% {\n",
              "      border-color: transparent;\n",
              "      border-right-color: var(--fill-color);\n",
              "    }\n",
              "    80% {\n",
              "      border-color: transparent;\n",
              "      border-right-color: var(--fill-color);\n",
              "      border-bottom-color: var(--fill-color);\n",
              "    }\n",
              "    90% {\n",
              "      border-color: transparent;\n",
              "      border-bottom-color: var(--fill-color);\n",
              "    }\n",
              "  }\n",
              "</style>\n",
              "\n",
              "      <script>\n",
              "        async function quickchart(key) {\n",
              "          const quickchartButtonEl =\n",
              "            document.querySelector('#' + key + ' button');\n",
              "          quickchartButtonEl.disabled = true;  // To prevent multiple clicks.\n",
              "          quickchartButtonEl.classList.add('colab-df-spinner');\n",
              "          try {\n",
              "            const charts = await google.colab.kernel.invokeFunction(\n",
              "                'suggestCharts', [key], {});\n",
              "          } catch (error) {\n",
              "            console.error('Error during call to suggestCharts:', error);\n",
              "          }\n",
              "          quickchartButtonEl.classList.remove('colab-df-spinner');\n",
              "          quickchartButtonEl.classList.add('colab-df-quickchart-complete');\n",
              "        }\n",
              "        (() => {\n",
              "          let quickchartButtonEl =\n",
              "            document.querySelector('#df-68eb43b8-3cce-41f2-80a0-81e25b4bb4bf button');\n",
              "          quickchartButtonEl.style.display =\n",
              "            google.colab.kernel.accessAllowed ? 'block' : 'none';\n",
              "        })();\n",
              "      </script>\n",
              "    </div>\n",
              "\n",
              "    </div>\n",
              "  </div>\n"
            ],
            "application/vnd.google.colaboratory.intrinsic+json": {
              "type": "dataframe",
              "variable_name": "df"
            }
          },
          "metadata": {},
          "execution_count": 6
        }
      ]
    },
    {
      "cell_type": "code",
      "source": [
        "# create a 4x4 grid of images\n",
        "\n",
        "fig,axes=plt.subplots(4,4,figsize=(10,10))\n",
        "fig.suptitle(\"First 16 Images\",fontsize=16)\n",
        "\n",
        "# plot the first 16 images from the dataset\n",
        "\n",
        "for i, ax in enumerate(axes.flat):\n",
        "  img=df.iloc[i,1:].values.reshape(28,28) # reshape to 28x28\n",
        "  ax.imshow(img) # Display in grayscale\n",
        "  ax.axis('off') # remove axis for a cleaner look\n",
        "  ax.set_title(f\"Label{df.iloc[i,0]}\") # show the label\n",
        "\n",
        "plt.tight_layout(rect=[0,0,1,0.96]) # adjust layout to fit the title\n",
        "plt.show()"
      ],
      "metadata": {
        "colab": {
          "base_uri": "https://localhost:8080/",
          "height": 1000
        },
        "id": "7kpuXyiner6-",
        "outputId": "146ca460-c7fd-4fb4-ecef-4ff54e3aebeb"
      },
      "execution_count": 7,
      "outputs": [
        {
          "output_type": "display_data",
          "data": {
            "text/plain": [
              "<Figure size 1000x1000 with 16 Axes>"
            ],
            "image/png": "[encoded data removed]"
          },
          "metadata": {}
        }
      ]
    },
    {
      "cell_type": "code",
      "source": [
        "# train test split\n",
        "X=df.iloc[:,1:].values\n",
        "y=df.iloc[:,0].values"
      ],
      "metadata": {
        "id": "YBg7K_c7gI9F"
      },
      "execution_count": 8,
      "outputs": []
    },
    {
      "cell_type": "code",
      "source": [
        "X_train,X_test,y_train,y_test = train_test_split(X,y,test_size=0.2,random_state=42)"
      ],
      "metadata": {
        "id": "JhOmJ_HYgduf"
      },
      "execution_count": 9,
      "outputs": []
    },
    {
      "cell_type": "code",
      "source": [
        "# scaling teh features\n",
        "X_train=X_train/255.0 # 255 is the max value in the data set\n",
        "# we have different values in dset so, converting in range 0-1 for better use\n",
        "X_test=X_test/255.0\n"
      ],
      "metadata": {
        "id": "tkaqhk_cgnqC"
      },
      "execution_count": 10,
      "outputs": []
    },
    {
      "cell_type": "code",
      "source": [
        "X_train"
      ],
      "metadata": {
        "colab": {
          "base_uri": "https://localhost:8080/"
        },
        "id": "j5-ZQhmchN9P",
        "outputId": "42aa42b0-235e-43c1-d36c-1b89c803ad12"
      },
      "execution_count": 11,
      "outputs": [
        {
          "output_type": "execute_result",
          "data": {
            "text/plain": [
              "array([[0.        , 0.        , 0.00784314, ..., 0.        , 0.        ,\n",
              "        0.        ],\n",
              "       [0.        , 0.        , 0.        , ..., 0.        , 0.        ,\n",
              "        0.        ],\n",
              "       [0.        , 0.        , 0.        , ..., 0.        , 0.        ,\n",
              "        0.        ],\n",
              "       ...,\n",
              "       [0.        , 0.        , 0.        , ..., 0.        , 0.        ,\n",
              "        0.        ],\n",
              "       [0.        , 0.        , 0.        , ..., 0.        , 0.        ,\n",
              "        0.        ],\n",
              "       [0.        , 0.        , 0.        , ..., 0.        , 0.        ,\n",
              "        0.        ]])"
            ]
          },
          "metadata": {},
          "execution_count": 11
        }
      ]
    },
    {
      "cell_type": "code",
      "source": [
        "# crate CustomData class\n",
        "class CustomDataset(Dataset):\n",
        "\n",
        "  def __init__(self,features,labels):\n",
        "\n",
        "    self.features=torch.tensor(features, dtype=torch.float32) # we will se features in float\n",
        "    self.labels=torch.tensor(labels,dtype=torch.long)\n",
        "\n",
        "  def __len__(self):\n",
        "    return len(self.features)\n",
        "\n",
        "  def __getitem__(self,index):\n",
        "    return self.features[index],self.labels[index]\n",
        "\n"
      ],
      "metadata": {
        "id": "TBdDudMVhPZ-"
      },
      "execution_count": 12,
      "outputs": []
    },
    {
      "cell_type": "code",
      "source": [
        "# create train_dataset object\n",
        "\n",
        "train_dataset=CustomDataset(X_train,y_train)"
      ],
      "metadata": {
        "id": "OJBssNIyiCHE"
      },
      "execution_count": 13,
      "outputs": []
    },
    {
      "cell_type": "code",
      "source": [
        "len(train_dataset)"
      ],
      "metadata": {
        "colab": {
          "base_uri": "https://localhost:8080/"
        },
        "id": "rZ4cwj7XiRbC",
        "outputId": "6c4b9bc8-6c4a-4d56-eb6d-d61af7a47998"
      },
      "execution_count": 14,
      "outputs": [
        {
          "output_type": "execute_result",
          "data": {
            "text/plain": [
              "8333"
            ]
          },
          "metadata": {},
          "execution_count": 14
        }
      ]
    },
    {
      "cell_type": "code",
      "source": [
        "train_dataset[0] # train dataset first label"
      ],
      "metadata": {
        "colab": {
          "base_uri": "https://localhost:8080/"
        },
        "id": "Wv59QsstiTEA",
        "outputId": "f4b8deca-2148-4101-d0a4-84ba4cee64a8"
      },
      "execution_count": 15,
      "outputs": [
        {
          "output_type": "execute_result",
          "data": {
            "text/plain": [
              "(tensor([0.0000, 0.0000, 0.0078, 0.0000, 0.0000, 0.0000, 0.0000, 0.0000, 0.0000,\n",
              "         0.0000, 0.3804, 0.5255, 0.1922, 0.1608, 0.1451, 0.1529, 0.3059, 0.5333,\n",
              "         0.2588, 0.0000, 0.0000, 0.0000, 0.0000, 0.0000, 0.0000, 0.0000, 0.0000,\n",
              "         0.0000, 0.0000, 0.0000, 0.0000, 0.0000, 0.0000, 0.0000, 0.0000, 0.0706,\n",
              "         0.3569, 0.6157, 0.5098, 0.6667, 0.7882, 0.7137, 0.7608, 0.7216, 0.7608,\n",
              "         0.5608, 0.5843, 0.6471, 0.4941, 0.1608, 0.0000, 0.0000, 0.0000, 0.0000,\n",
              "         0.0000, 0.0000, 0.0000, 0.0000, 0.0000, 0.0000, 0.0000, 0.2275, 0.5765,\n",
              "         0.5922, 0.5255, 0.4196, 0.3412, 0.4118, 0.5686, 0.6000, 0.6314, 0.6157,\n",
              "         0.4549, 0.3882, 0.3725, 0.4353, 0.5765, 0.6902, 0.6078, 0.0784, 0.0000,\n",
              "         0.0078, 0.0000, 0.0000, 0.0000, 0.0000, 0.0078, 0.0000, 0.0941, 0.6745,\n",
              "         0.4353, 0.3647, 0.3882, 0.3804, 0.4118, 0.3725, 0.4039, 0.4863, 0.3882,\n",
              "         0.3725, 0.3569, 0.4039, 0.4196, 0.3961, 0.3725, 0.3216, 0.4784, 0.6157,\n",
              "         0.0078, 0.0000, 0.0000, 0.0000, 0.0000, 0.0000, 0.0000, 0.0000, 0.5020,\n",
              "         0.5686, 0.3882, 0.4196, 0.4275, 0.4118, 0.3961, 0.3961, 0.3804, 0.3882,\n",
              "         0.4039, 0.4039, 0.3961, 0.3804, 0.4039, 0.4039, 0.4353, 0.4549, 0.4471,\n",
              "         0.5686, 0.3216, 0.0000, 0.0078, 0.0000, 0.0000, 0.0000, 0.0000, 0.0000,\n",
              "         0.6157, 0.5333, 0.5255, 0.4118, 0.3725, 0.3961, 0.3961, 0.4039, 0.3961,\n",
              "         0.3961, 0.3882, 0.3961, 0.3961, 0.3961, 0.4039, 0.4118, 0.4353, 0.4627,\n",
              "         0.5765, 0.4941, 0.6667, 0.0000, 0.0000, 0.0000, 0.0000, 0.0000, 0.0000,\n",
              "         0.3137, 0.6824, 0.5490, 0.5843, 0.5843, 0.4118, 0.4118, 0.3961, 0.4039,\n",
              "         0.3882, 0.3961, 0.4039, 0.4039, 0.4039, 0.4039, 0.4196, 0.4353, 0.4706,\n",
              "         0.5020, 0.4471, 0.5843, 0.6392, 0.1765, 0.0000, 0.0000, 0.0000, 0.0000,\n",
              "         0.0000, 0.6235, 0.6157, 0.5490, 0.6902, 0.6471, 0.5176, 0.4039, 0.4118,\n",
              "         0.3961, 0.3961, 0.3961, 0.4039, 0.4039, 0.3961, 0.4118, 0.4275, 0.4353,\n",
              "         0.4471, 0.4275, 0.7216, 0.6157, 0.5843, 0.5176, 0.0000, 0.0000, 0.0000,\n",
              "         0.0000, 0.0784, 0.6235, 0.5686, 0.5020, 0.7216, 0.6745, 0.5765, 0.3804,\n",
              "         0.4196, 0.4118, 0.4275, 0.4118, 0.4275, 0.4275, 0.4275, 0.4196, 0.4118,\n",
              "         0.4118, 0.5020, 0.7804, 0.8353, 0.5098, 0.5765, 0.5412, 0.0000, 0.0000,\n",
              "         0.0000, 0.0000, 0.5098, 0.6314, 0.5843, 0.4863, 0.6392, 0.7961, 0.4941,\n",
              "         0.4784, 0.4627, 0.4549, 0.4471, 0.4275, 0.4471, 0.4471, 0.4549, 0.4471,\n",
              "         0.4196, 0.4863, 0.5843, 1.0000, 0.7608, 0.4941, 0.5686, 0.6078, 0.3882,\n",
              "         0.0000, 0.0000, 0.0000, 0.0235, 0.1451, 0.4118, 0.5608, 0.7529, 0.8118,\n",
              "         0.6745, 0.5490, 0.5098, 0.5098, 0.4863, 0.4549, 0.4706, 0.4784, 0.4863,\n",
              "         0.4706, 0.4941, 0.5686, 0.6157, 0.9255, 0.7686, 0.5176, 0.4784, 0.2824,\n",
              "         0.0314, 0.0000, 0.0000, 0.0000, 0.0000, 0.0000, 0.0000, 0.0000, 0.0000,\n",
              "         0.2510, 0.7882, 0.5843, 0.5412, 0.5412, 0.4941, 0.4784, 0.4784, 0.4941,\n",
              "         0.5020, 0.5098, 0.5412, 0.6078, 0.7529, 0.1373, 0.0000, 0.0000, 0.0000,\n",
              "         0.0000, 0.0000, 0.0000, 0.0000, 0.0000, 0.0078, 0.0000, 0.0000, 0.0000,\n",
              "         0.0000, 0.2353, 0.7686, 0.6000, 0.5333, 0.5333, 0.4863, 0.4784, 0.4784,\n",
              "         0.4863, 0.4941, 0.5020, 0.5176, 0.5922, 0.8824, 0.0235, 0.0000, 0.0000,\n",
              "         0.0000, 0.0000, 0.0078, 0.0000, 0.0000, 0.0000, 0.0000, 0.0000, 0.0000,\n",
              "         0.0078, 0.0000, 0.1843, 0.7451, 0.6078, 0.5255, 0.5333, 0.4941, 0.4863,\n",
              "         0.4784, 0.4941, 0.5020, 0.5176, 0.5176, 0.6078, 0.7804, 0.0000, 0.0000,\n",
              "         0.0078, 0.0000, 0.0000, 0.0000, 0.0000, 0.0000, 0.0000, 0.0000, 0.0000,\n",
              "         0.0000, 0.0000, 0.0000, 0.0471, 0.6980, 0.6000, 0.5098, 0.5255, 0.4941,\n",
              "         0.4941, 0.4863, 0.5020, 0.5098, 0.5255, 0.5255, 0.5922, 0.7529, 0.0000,\n",
              "         0.0000, 0.0000, 0.0000, 0.0000, 0.0000, 0.0000, 0.0000, 0.0000, 0.0000,\n",
              "         0.0000, 0.0000, 0.0000, 0.0000, 0.0000, 0.6745, 0.6000, 0.5098, 0.5333,\n",
              "         0.5098, 0.5020, 0.4941, 0.5020, 0.5098, 0.5255, 0.5608, 0.5608, 0.6902,\n",
              "         0.0000, 0.0000, 0.0078, 0.0000, 0.0000, 0.0000, 0.0000, 0.0000, 0.0000,\n",
              "         0.0000, 0.0000, 0.0000, 0.0078, 0.0000, 0.0000, 0.6824, 0.6000, 0.5333,\n",
              "         0.5608, 0.5412, 0.5176, 0.5098, 0.5176, 0.5176, 0.5176, 0.5686, 0.5765,\n",
              "         0.6824, 0.0000, 0.0000, 0.0078, 0.0000, 0.0000, 0.0000, 0.0000, 0.0000,\n",
              "         0.0000, 0.0000, 0.0000, 0.0000, 0.0078, 0.0000, 0.0000, 0.6667, 0.6000,\n",
              "         0.5333, 0.5608, 0.5608, 0.5255, 0.5098, 0.5255, 0.5255, 0.5333, 0.5686,\n",
              "         0.6000, 0.6745, 0.0000, 0.0000, 0.0000, 0.0000, 0.0000, 0.0000, 0.0000,\n",
              "         0.0000, 0.0000, 0.0000, 0.0000, 0.0000, 0.0078, 0.0000, 0.0000, 0.6549,\n",
              "         0.5922, 0.5412, 0.5843, 0.5686, 0.5490, 0.5176, 0.5333, 0.5412, 0.5333,\n",
              "         0.5412, 0.6078, 0.6392, 0.0000, 0.0000, 0.0000, 0.0000, 0.0000, 0.0000,\n",
              "         0.0000, 0.0000, 0.0000, 0.0000, 0.0000, 0.0000, 0.0078, 0.0000, 0.0000,\n",
              "         0.6471, 0.6000, 0.5412, 0.5608, 0.5843, 0.5490, 0.5412, 0.5333, 0.5490,\n",
              "         0.5608, 0.5255, 0.6000, 0.6157, 0.0000, 0.0000, 0.0000, 0.0000, 0.0000,\n",
              "         0.0000, 0.0000, 0.0000, 0.0000, 0.0000, 0.0000, 0.0000, 0.0078, 0.0000,\n",
              "         0.0000, 0.6471, 0.5843, 0.5412, 0.5686, 0.5922, 0.5333, 0.5608, 0.5255,\n",
              "         0.5412, 0.5686, 0.5490, 0.5922, 0.6235, 0.0000, 0.0000, 0.0000, 0.0000,\n",
              "         0.0000, 0.0000, 0.0000, 0.0000, 0.0000, 0.0000, 0.0000, 0.0000, 0.0078,\n",
              "         0.0000, 0.0000, 0.8275, 0.5490, 0.5255, 0.6157, 0.5608, 0.5686, 0.5490,\n",
              "         0.5255, 0.5412, 0.5686, 0.5490, 0.6000, 0.6471, 0.0000, 0.0000, 0.0000,\n",
              "         0.0000, 0.0000, 0.0000, 0.0000, 0.0000, 0.0000, 0.0000, 0.0000, 0.0000,\n",
              "         0.0078, 0.0000, 0.0000, 0.6745, 0.5765, 0.5922, 0.6078, 0.5490, 0.5843,\n",
              "         0.5686, 0.5412, 0.5608, 0.5765, 0.5490, 0.6078, 0.6667, 0.0000, 0.0000,\n",
              "         0.0000, 0.0000, 0.0000, 0.0000, 0.0000, 0.0000, 0.0000, 0.0000, 0.0000,\n",
              "         0.0000, 0.0000, 0.0000, 0.0392, 0.6980, 0.6235, 0.6667, 0.6000, 0.5843,\n",
              "         0.6000, 0.5922, 0.5686, 0.5843, 0.6000, 0.5333, 0.6157, 0.6824, 0.0000,\n",
              "         0.0000, 0.0000, 0.0000, 0.0000, 0.0000, 0.0000, 0.0000, 0.0000, 0.0000,\n",
              "         0.0000, 0.0000, 0.0000, 0.0000, 0.1686, 0.7216, 0.6235, 0.5922, 0.6000,\n",
              "         0.6471, 0.6392, 0.6000, 0.5686, 0.6000, 0.6078, 0.5412, 0.6078, 0.6980,\n",
              "         0.0000, 0.0000, 0.0000, 0.0000, 0.0000, 0.0000, 0.0000, 0.0000, 0.0000,\n",
              "         0.0000, 0.0000, 0.0000, 0.0000, 0.0000, 0.2078, 0.7137, 0.5922, 0.5843,\n",
              "         0.6157, 0.6314, 0.6000, 0.5843, 0.5765, 0.6078, 0.6078, 0.5843, 0.6078,\n",
              "         0.7059, 0.0000, 0.0000, 0.0078, 0.0000, 0.0000, 0.0000, 0.0000, 0.0000,\n",
              "         0.0000, 0.0000, 0.0000, 0.0000, 0.0078, 0.0000, 0.3647, 0.7961, 0.6314,\n",
              "         0.6824, 0.6471, 0.6471, 0.6157, 0.5765, 0.5765, 0.6157, 0.6078, 0.5922,\n",
              "         0.6078, 0.8118, 0.0000, 0.0000, 0.0078, 0.0000, 0.0000, 0.0000, 0.0000,\n",
              "         0.0000, 0.0000, 0.0000, 0.0000, 0.0000, 0.0000, 0.0000, 0.1451, 0.5412,\n",
              "         0.4706, 0.5255, 0.4627, 0.4627, 0.4784, 0.5333, 0.6000, 0.6157, 0.5765,\n",
              "         0.5686, 0.5686, 0.5608, 0.0000, 0.0000, 0.0078, 0.0000, 0.0000, 0.0000,\n",
              "         0.0000]),\n",
              " tensor(0))"
            ]
          },
          "metadata": {},
          "execution_count": 15
        }
      ]
    },
    {
      "cell_type": "code",
      "source": [
        "# create test_dataset object\n",
        "\n",
        "test_dataset=CustomDataset(X_test,y_test)"
      ],
      "metadata": {
        "id": "A7uFuu_Hibnk"
      },
      "execution_count": 16,
      "outputs": []
    },
    {
      "cell_type": "code",
      "source": [
        "# create train and test loader\n",
        "train_loader = DataLoader(train_dataset,batch_size=32,shuffle=True,pin_memory=True)\n",
        "test_loader= DataLoader(test_dataset,batch_size=32,shuffle=False,pin_memory=True)\n",
        "# pin memory used to execution(run) fast"
      ],
      "metadata": {
        "id": "4hG83bkTim1S"
      },
      "execution_count": 18,
      "outputs": []
    },
    {
      "cell_type": "code",
      "source": [
        "# define NN Class\n",
        "\n",
        "class MyNN(nn.Module):\n",
        "\n",
        "  def __init__(self,num_features):\n",
        "    super().__init__()\n",
        "    self.model=nn.Sequential(\n",
        "        nn.Linear(num_features,128),# from input data filtering 128 features to next layer ReLu(hidden layer 1)\n",
        "        nn.ReLU(),\n",
        "        nn.Linear(128,64), # from 128 filtering 64 to next hidden layer\n",
        "        nn.ReLU(),\n",
        "        nn.Linear(64,10) # from 64 featues filtering 10 features giving as output\n",
        "    )\n",
        " # in pytorch internally entropy is loss so No need to explicitly deinfe \"Softmmax\"\n",
        "\n",
        "  def forward(self,x):\n",
        "    return self.model(x)\n",
        "\n",
        "\n"
      ],
      "metadata": {
        "id": "_TEATPkSi_AQ"
      },
      "execution_count": 19,
      "outputs": []
    },
    {
      "cell_type": "code",
      "source": [
        "# set learnnig rate and epochs\n",
        "\n",
        "epochs=100\n",
        "learning_rate=0.1\n"
      ],
      "metadata": {
        "id": "A4scOO57jIV8"
      },
      "execution_count": 20,
      "outputs": []
    },
    {
      "cell_type": "code",
      "source": [
        "# instatiate the model\n",
        "model=MyNN(X_train.shape[1])\n",
        "model=model.to(device)\n",
        "\n",
        "# loss fun\n",
        "criterion =nn.CrossEntropyLoss()\n",
        "\n",
        "# optimizer\n",
        "optimizer = optim.SGD(model.parameters(),lr=learning_rate)\n"
      ],
      "metadata": {
        "id": "HrDfqqdjk1Aq"
      },
      "execution_count": 21,
      "outputs": []
    },
    {
      "cell_type": "code",
      "source": [
        "len(train_loader)"
      ],
      "metadata": {
        "colab": {
          "base_uri": "https://localhost:8080/"
        },
        "id": "cyczlg8YlLs8",
        "outputId": "b0cf0623-9696-4171-ee03-60d63c1ab9da"
      },
      "execution_count": 22,
      "outputs": [
        {
          "output_type": "execute_result",
          "data": {
            "text/plain": [
              "261"
            ]
          },
          "metadata": {},
          "execution_count": 22
        }
      ]
    },
    {
      "cell_type": "code",
      "source": [
        "# training loop\n",
        "for epoch in range(epochs):\n",
        "\n",
        "  total_epoch_loss=0\n",
        "\n",
        "  for batch_features ,batch_labels in train_loader:\n",
        "\n",
        "    # move data to gpu\n",
        "    batch_features ,batch_labels = batch_features.to(device),batch_labels.to(device)\n",
        "    # forward pass\n",
        "    outputs=model(batch_features)\n",
        "\n",
        "    # loass calculate\n",
        "    loss=criterion(outputs,batch_labels)\n",
        "\n",
        "    # back pass\n",
        "    optimizer.zero_grad()\n",
        "    loss.backward()\n",
        "\n",
        "    # update grads\n",
        "    optimizer.step()\n",
        "\n",
        "    total_epoch_loss = total_epoch_loss + loss.item()\n",
        "\n",
        "  avg_loss = total_epoch_loss/len(train_loader)\n",
        "  print(f'Epoch: {epoch+1}, Loss: {avg_loss}')"
      ],
      "metadata": {
        "colab": {
          "base_uri": "https://localhost:8080/"
        },
        "id": "Y-3cBcd-hqsN",
        "outputId": "ffa3ea1d-2472-437d-aab4-9cdde52d3f25"
      },
      "execution_count": 23,
      "outputs": [
        {
          "output_type": "stream",
          "name": "stdout",
          "text": [
            "Epoch: 1, Loss: 1.0771580072426705\n",
            "Epoch: 2, Loss: 0.6243735893247685\n",
            "Epoch: 3, Loss: 0.5305618590664589\n",
            "Epoch: 4, Loss: 0.4738158607619932\n",
            "Epoch: 5, Loss: 0.44917499807830974\n",
            "Epoch: 6, Loss: 0.42721627778248766\n",
            "Epoch: 7, Loss: 0.39653950244530867\n",
            "Epoch: 8, Loss: 0.38605580133496575\n",
            "Epoch: 9, Loss: 0.3623363452167803\n",
            "Epoch: 10, Loss: 0.3536520889492784\n",
            "Epoch: 11, Loss: 0.34040670522213895\n",
            "Epoch: 12, Loss: 0.3227545751751154\n",
            "Epoch: 13, Loss: 0.3148383688024634\n",
            "Epoch: 14, Loss: 0.3002446216184974\n",
            "Epoch: 15, Loss: 0.2952015722791354\n",
            "Epoch: 16, Loss: 0.2758192692765559\n",
            "Epoch: 17, Loss: 0.2796716171092001\n",
            "Epoch: 18, Loss: 0.2763409039640792\n",
            "Epoch: 19, Loss: 0.25652336196481496\n",
            "Epoch: 20, Loss: 0.25537883981320136\n",
            "Epoch: 21, Loss: 0.24272066860734504\n",
            "Epoch: 22, Loss: 0.23319721240478913\n",
            "Epoch: 23, Loss: 0.22119489457757993\n",
            "Epoch: 24, Loss: 0.2236646344649723\n",
            "Epoch: 25, Loss: 0.20915327862019284\n",
            "Epoch: 26, Loss: 0.20530555262747738\n",
            "Epoch: 27, Loss: 0.20327975349393726\n",
            "Epoch: 28, Loss: 0.1967163244726215\n",
            "Epoch: 29, Loss: 0.18677288692772845\n",
            "Epoch: 30, Loss: 0.1776203366845732\n",
            "Epoch: 31, Loss: 0.17565150919345376\n",
            "Epoch: 32, Loss: 0.17766223155975455\n",
            "Epoch: 33, Loss: 0.1654419447812769\n",
            "Epoch: 34, Loss: 0.16243857340851506\n",
            "Epoch: 35, Loss: 0.1618332655893432\n",
            "Epoch: 36, Loss: 0.15401903973442727\n",
            "Epoch: 37, Loss: 0.15035042592049558\n",
            "Epoch: 38, Loss: 0.15286350614566113\n",
            "Epoch: 39, Loss: 0.14338400426688266\n",
            "Epoch: 40, Loss: 0.12961787028930424\n",
            "Epoch: 41, Loss: 0.1354317422991911\n",
            "Epoch: 42, Loss: 0.13017744365437278\n",
            "Epoch: 43, Loss: 0.12435017234263977\n",
            "Epoch: 44, Loss: 0.126302902297727\n",
            "Epoch: 45, Loss: 0.11746659605688918\n",
            "Epoch: 46, Loss: 0.10702474661513992\n",
            "Epoch: 47, Loss: 0.11523321178167259\n",
            "Epoch: 48, Loss: 0.09729652449317362\n",
            "Epoch: 49, Loss: 0.11234357149850477\n",
            "Epoch: 50, Loss: 0.10161280503203929\n",
            "Epoch: 51, Loss: 0.09519532237958406\n",
            "Epoch: 52, Loss: 0.09711119889413716\n",
            "Epoch: 53, Loss: 0.10250838645787418\n",
            "Epoch: 54, Loss: 0.09437312927521709\n",
            "Epoch: 55, Loss: 0.08821182308443803\n",
            "Epoch: 56, Loss: 0.08833843197448757\n",
            "Epoch: 57, Loss: 0.07451082359628317\n",
            "Epoch: 58, Loss: 0.09416176137154016\n",
            "Epoch: 59, Loss: 0.0832322383062179\n",
            "Epoch: 60, Loss: 0.08274288406556336\n",
            "Epoch: 61, Loss: 0.07845607662610923\n",
            "Epoch: 62, Loss: 0.08927687140131704\n",
            "Epoch: 63, Loss: 0.08417796635986002\n",
            "Epoch: 64, Loss: 0.05492026219501292\n",
            "Epoch: 65, Loss: 0.07362761026180538\n",
            "Epoch: 66, Loss: 0.07614976214155754\n",
            "Epoch: 67, Loss: 0.0758367102098976\n",
            "Epoch: 68, Loss: 0.06098858986792094\n",
            "Epoch: 69, Loss: 0.05942646099764754\n",
            "Epoch: 70, Loss: 0.06308938414161717\n",
            "Epoch: 71, Loss: 0.06859716146263754\n",
            "Epoch: 72, Loss: 0.055610150699833785\n",
            "Epoch: 73, Loss: 0.06119873378224228\n",
            "Epoch: 74, Loss: 0.05239527705402053\n",
            "Epoch: 75, Loss: 0.03898242880145116\n",
            "Epoch: 76, Loss: 0.0363396586893997\n",
            "Epoch: 77, Loss: 0.05486583699368768\n",
            "Epoch: 78, Loss: 0.03456477557087738\n",
            "Epoch: 79, Loss: 0.045305683031224134\n",
            "Epoch: 80, Loss: 0.048576225494516304\n",
            "Epoch: 81, Loss: 0.03870838728507667\n",
            "Epoch: 82, Loss: 0.039232818925027536\n",
            "Epoch: 83, Loss: 0.05694112697838345\n",
            "Epoch: 84, Loss: 0.04061837521559199\n",
            "Epoch: 85, Loss: 0.03167385366630216\n",
            "Epoch: 86, Loss: 0.026103960065585043\n",
            "Epoch: 87, Loss: 0.04091120288320157\n",
            "Epoch: 88, Loss: 0.026074685319427176\n",
            "Epoch: 89, Loss: 0.038046444010192894\n",
            "Epoch: 90, Loss: 0.0452232745481531\n",
            "Epoch: 91, Loss: 0.029121858998687074\n",
            "Epoch: 92, Loss: 0.03192246662474227\n",
            "Epoch: 93, Loss: 0.016185860117893823\n",
            "Epoch: 94, Loss: 0.014453806442483346\n",
            "Epoch: 95, Loss: 0.01260650871173029\n",
            "Epoch: 96, Loss: 0.00713553069115008\n",
            "Epoch: 97, Loss: 0.01769137404223688\n",
            "Epoch: 98, Loss: 0.07835549487035642\n",
            "Epoch: 99, Loss: 0.031225388379672977\n",
            "Epoch: 100, Loss: 0.09057246791858982\n"
          ]
        }
      ]
    },
    {
      "cell_type": "code",
      "source": [
        "# set model to eval model\n",
        "model.eval() #"
      ],
      "metadata": {
        "colab": {
          "base_uri": "https://localhost:8080/"
        },
        "id": "M1YLvHgSi_lu",
        "outputId": "0f5a4501-804d-4487-cac3-62c729f14803"
      },
      "execution_count": 24,
      "outputs": [
        {
          "output_type": "execute_result",
          "data": {
            "text/plain": [
              "MyNN(\n",
              "  (model): Sequential(\n",
              "    (0): Linear(in_features=784, out_features=128, bias=True)\n",
              "    (1): ReLU()\n",
              "    (2): Linear(in_features=128, out_features=64, bias=True)\n",
              "    (3): ReLU()\n",
              "    (4): Linear(in_features=64, out_features=10, bias=True)\n",
              "  )\n",
              ")"
            ]
          },
          "metadata": {},
          "execution_count": 24
        }
      ]
    },
    {
      "cell_type": "code",
      "source": [
        "len(test_loader)"
      ],
      "metadata": {
        "colab": {
          "base_uri": "https://localhost:8080/"
        },
        "id": "_PWMfMXolJKp",
        "outputId": "6805f153-5862-444c-ea88-38f2d45fa9bf"
      },
      "execution_count": 25,
      "outputs": [
        {
          "output_type": "execute_result",
          "data": {
            "text/plain": [
              "66"
            ]
          },
          "metadata": {},
          "execution_count": 25
        }
      ]
    },
    {
      "cell_type": "code",
      "source": [
        "# evaluation code\n",
        "\n",
        "total=0\n",
        "correct=0\n",
        "with torch.no_grad():\n",
        "\n",
        "  for batch_features,batch_labels in test_loader:\n",
        "\n",
        "    # move data to gpu\n",
        "    batch_features ,batch_labels = batch_features.to(device),batch_labels.to(device)\n",
        "\n",
        "    outputs = model(batch_features)\n",
        "\n",
        "    _, predicted = torch.max(outputs,1)\n",
        "\n",
        "    total = total + batch_labels.shape[0]\n",
        "\n",
        "    correct = correct + (predicted == batch_labels).sum().item()\n",
        "\n",
        "print(correct/total) # accuracy increases in GPU compatred to CPU\n"
      ],
      "metadata": {
        "colab": {
          "base_uri": "https://localhost:8080/"
        },
        "id": "iv2Mh3WKjeA-",
        "outputId": "25b8a6fe-ece3-440a-d4dd-338de4fa78b0"
      },
      "execution_count": 27,
      "outputs": [
        {
          "output_type": "stream",
          "name": "stdout",
          "text": [
            "0.8646833013435701\n"
          ]
        }
      ]
    },
    {
      "cell_type": "code",
      "source": [],
      "metadata": {
        "id": "sFxR-L6llCN4"
      },
      "execution_count": null,
      "outputs": []
    }
  ]
}